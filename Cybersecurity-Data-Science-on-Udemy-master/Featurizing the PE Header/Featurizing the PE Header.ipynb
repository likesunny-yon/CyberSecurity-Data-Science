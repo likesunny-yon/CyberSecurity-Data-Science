{
 "cells": [
  {
   "cell_type": "code",
   "execution_count": 1,
   "metadata": {},
   "outputs": [],
   "source": [
    "from os import listdir\n",
    "from os.path import isfile, join\n",
    "directories = [\"Benign PE Samples\", \"Malicious PE Samples\"]\n",
    "import pefile"
   ]
  },
  {
   "cell_type": "code",
   "execution_count": 2,
   "metadata": {},
   "outputs": [],
   "source": [
    "# takes input such as [b'ADVAPI32.dll', b'KERNEL32.dll', b'msvcrt.dll']\n",
    "# and converts case to lower and removes .dll \n",
    "def preprocessImports(listOfDLLs):\n",
    "    processedListOfDLLs = []\n",
    "    return [x.decode().split(\".\")[0].lower() for x in listOfDLLs]\n",
    "\n",
    "def getImports(pe):\n",
    "    listOfImports = []\n",
    "    for entry in pe.DIRECTORY_ENTRY_IMPORT:\n",
    "        listOfImports.append(entry.dll)\n",
    "    return preprocessImports(listOfImports)\n",
    "\n",
    "def getSectionNames(pe):\n",
    "    listOfSectionNames = []\n",
    "    for eachSection in pe.sections:\n",
    "        refined_name = eachSection.Name.decode().replace('\\x00','').lower()\n",
    "        listOfSectionNames.append(refined_name)\n",
    "    return listOfSectionNames"
   ]
  },
  {
   "cell_type": "code",
   "execution_count": 3,
   "metadata": {},
   "outputs": [
    {
     "name": "stdout",
     "output_type": "stream",
     "text": [
      "'DOS Header magic not found.'\n",
      "Unable to obtain imports from Benign PE Samples/adamuninstall.exe\n",
      "'DOS Header magic not found.'\n",
      "Unable to obtain imports from Benign PE Samples/ADSchemaAnalyzer.exe\n",
      "'DOS Header magic not found.'\n",
      "Unable to obtain imports from Benign PE Samples/appcmd.exe\n",
      "'PE' object has no attribute 'DIRECTORY_ENTRY_IMPORT'\n",
      "Unable to obtain imports from Benign PE Samples/AppVStreamingUX.exe\n",
      "'DOS Header magic not found.'\n",
      "Unable to obtain imports from Benign PE Samples/aspnetca.exe\n",
      "'DOS Header magic not found.'\n",
      "Unable to obtain imports from Benign PE Samples/bash.exe\n",
      "'DOS Header magic not found.'\n",
      "Unable to obtain imports from Benign PE Samples/BootExpCfg.exe\n",
      "'DOS Header magic not found.'\n",
      "Unable to obtain imports from Benign PE Samples/c2wtshost.exe\n",
      "'DOS Header magic not found.'\n",
      "Unable to obtain imports from Benign PE Samples/CCG.exe\n",
      "'DOS Header magic not found.'\n",
      "Unable to obtain imports from Benign PE Samples/CExecSvc.exe\n",
      "'DOS Header magic not found.'\n",
      "Unable to obtain imports from Benign PE Samples/cmak.exe\n",
      "'DOS Header magic not found.'\n",
      "Unable to obtain imports from Benign PE Samples/csvde.exe\n",
      "'DOS Header magic not found.'\n",
      "Unable to obtain imports from Benign PE Samples/dcdiag.exe\n",
      "'DOS Header magic not found.'\n",
      "Unable to obtain imports from Benign PE Samples/dplaysvr.exe\n",
      "'DOS Header magic not found.'\n",
      "Unable to obtain imports from Benign PE Samples/dpnsvr.exe\n",
      "'DOS Header magic not found.'\n",
      "Unable to obtain imports from Benign PE Samples/dsacls.exe\n",
      "'DOS Header magic not found.'\n",
      "Unable to obtain imports from Benign PE Samples/dsamain.exe\n",
      "'DOS Header magic not found.'\n",
      "Unable to obtain imports from Benign PE Samples/dsdbutil.exe\n",
      "'DOS Header magic not found.'\n",
      "Unable to obtain imports from Benign PE Samples/dsmgmt.exe\n",
      "'DOS Header magic not found.'\n",
      "Unable to obtain imports from Benign PE Samples/eshell.exe\n",
      "'DOS Header magic not found.'\n",
      "Unable to obtain imports from Benign PE Samples/evntcmd.exe\n",
      "'DOS Header magic not found.'\n",
      "Unable to obtain imports from Benign PE Samples/evntwin.exe\n",
      "'DOS Header magic not found.'\n",
      "Unable to obtain imports from Benign PE Samples/hcsdiag.exe\n",
      "'DOS Header magic not found.'\n",
      "Unable to obtain imports from Benign PE Samples/hvc.exe\n",
      "'DOS Header magic not found.'\n",
      "Unable to obtain imports from Benign PE Samples/hvsimgr.exe\n",
      "'DOS Header magic not found.'\n",
      "Unable to obtain imports from Benign PE Samples/hvsirdpclient.exe\n",
      "'DOS Header magic not found.'\n",
      "Unable to obtain imports from Benign PE Samples/hvsirpcd.exe\n",
      "'DOS Header magic not found.'\n",
      "Unable to obtain imports from Benign PE Samples/iisreset.exe\n",
      "'DOS Header magic not found.'\n",
      "Unable to obtain imports from Benign PE Samples/iisrstas.exe\n",
      "'DOS Header magic not found.'\n",
      "Unable to obtain imports from Benign PE Samples/iissetup.exe\n",
      "'DOS Header magic not found.'\n",
      "Unable to obtain imports from Benign PE Samples/inetinfo.exe\n",
      "'DOS Header magic not found.'\n",
      "Unable to obtain imports from Benign PE Samples/InetMgr.exe\n",
      "'DOS Header magic not found.'\n",
      "Unable to obtain imports from Benign PE Samples/InetMgr6.exe\n",
      "'DOS Header magic not found.'\n",
      "Unable to obtain imports from Benign PE Samples/InspectVhdDialog.exe\n",
      "'DOS Header magic not found.'\n",
      "Unable to obtain imports from Benign PE Samples/InspectVhdDialog6.2.exe\n",
      "'DOS Header magic not found.'\n",
      "Unable to obtain imports from Benign PE Samples/InspectVhdDialog6.3.exe\n",
      "'DOS Header magic not found.'\n",
      "Unable to obtain imports from Benign PE Samples/ldifde.exe\n",
      "'DOS Header magic not found.'\n",
      "Unable to obtain imports from Benign PE Samples/ldp.exe\n",
      "'DOS Header magic not found.'\n",
      "Unable to obtain imports from Benign PE Samples/LogCollector.exe\n",
      "'DOS Header magic not found.'\n",
      "Unable to obtain imports from Benign PE Samples/lpq.exe\n",
      "'DOS Header magic not found.'\n",
      "Unable to obtain imports from Benign PE Samples/lpr.exe\n",
      "'DOS Header magic not found.'\n",
      "Unable to obtain imports from Benign PE Samples/LxRun.exe\n",
      "'utf-8' codec can't decode byte 0xd2 in position 6: invalid continuation byte\n",
      "Unable to obtain imports from Malicious PE Samples/Build.exe\n",
      "'PE' object has no attribute 'DIRECTORY_ENTRY_IMPORT'\n",
      "Unable to obtain imports from Malicious PE Samples/malware.exe\n",
      "'utf-8' codec can't decode byte 0xff in position 1: invalid start byte\n",
      "Unable to obtain imports from Malicious PE Samples/wirelesskeyview.exe\n",
      "'Invalid NT Headers signature.'\n",
      "Unable to obtain imports from Malicious PE Samples/{71257279-042b-371d-a1d3-fbf8d2fadffa}.exe\n"
     ]
    }
   ],
   "source": [
    "importsCorpus = []\n",
    "numSections = []\n",
    "sectionNames = []\n",
    "for datasetPath in directories:\n",
    "    samples = [f for f in listdir(datasetPath) if isfile(join(datasetPath,f))]\n",
    "    for file in samples:\n",
    "        filePath = datasetPath+\"/\"+file\n",
    "        try:\n",
    "            pe = pefile.PE(filePath)\n",
    "            imports = getImports(pe)\n",
    "            nSections = len(pe.sections)\n",
    "            secNames = getSectionNames(pe)\n",
    "            importsCorpus.append(imports)\n",
    "            numSections.append(nSections)\n",
    "            sectionNames.append(secNames)\n",
    "                  \n",
    "        except Exception as e: \n",
    "            print(e)\n",
    "            print(\"Unable to obtain imports from \"+filePath)"
   ]
  },
  {
   "cell_type": "code",
   "execution_count": 4,
   "metadata": {},
   "outputs": [
    {
     "name": "stdout",
     "output_type": "stream",
     "text": [
      "[['mscoree'], ['mscoree'], ['mscoree'], ['wincorlib', 'api-ms-win-eventing-provider-l1-1-0', 'api-ms-win-core-libraryloader-l1-2-0', 'api-ms-win-core-localization-l1-2-0', 'api-ms-win-core-processthreads-l1-1-0', 'api-ms-win-core-heap-l1-1-0', 'api-ms-win-core-debug-l1-1-0', 'api-ms-win-core-errorhandling-l1-1-0', 'api-ms-win-core-handle-l1-1-0', 'api-ms-win-core-synch-l1-1-0', 'api-ms-win-core-synch-l1-2-0', 'api-ms-win-core-com-l1-1-0', 'ext-ms-win-shell32-shellfolders-l1-1-0', 'api-ms-win-core-string-l1-1-0', 'api-ms-win-core-registry-l1-1-0', 'api-ms-win-core-util-l1-1-0', 'api-ms-win-core-winrt-error-l1-1-0', 'api-ms-win-core-winrt-error-l1-1-1', 'api-ms-win-core-winrt-string-l1-1-0', 'msvcrt', 'ntdll', 'api-ms-win-core-profile-l1-1-0', 'api-ms-win-core-sysinfo-l1-1-0'], ['advapi32', 'kernel32', 'msvcrt', 'ntdll', 'ole32', 'oleaut32', 'wintrust', 'fltlib', 'shell32', 'version', 'activeds']]\n",
      "[3, 3, 3, 6, 6]\n",
      "[['.text', '.rsrc', '.reloc'], ['.text', '.rsrc', '.reloc'], ['.text', '.rsrc', '.reloc'], ['.text', '.rdata', '.data', '.pdata', '.rsrc', '.reloc'], ['.text', '.rdata', '.data', '.pdata', '.rsrc', '.reloc']]\n"
     ]
    }
   ],
   "source": [
    "print(importsCorpus[0:5])\n",
    "print(numSections[0:5])\n",
    "print(sectionNames[0:5])"
   ]
  },
  {
   "cell_type": "code",
   "execution_count": null,
   "metadata": {},
   "outputs": [],
   "source": []
  }
 ],
 "metadata": {
  "kernelspec": {
   "display_name": "Python 3",
   "language": "python",
   "name": "python3"
  },
  "language_info": {
   "codemirror_mode": {
    "name": "ipython",
    "version": 3
   },
   "file_extension": ".py",
   "mimetype": "text/x-python",
   "name": "python",
   "nbconvert_exporter": "python",
   "pygments_lexer": "ipython3",
   "version": "3.6.7"
  }
 },
 "nbformat": 4,
 "nbformat_minor": 2
}
