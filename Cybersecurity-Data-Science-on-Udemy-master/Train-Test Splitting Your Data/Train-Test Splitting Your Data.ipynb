{
 "cells": [
  {
   "cell_type": "code",
   "execution_count": 1,
   "metadata": {},
   "outputs": [],
   "source": [
    "from sklearn.model_selection import train_test_split\n",
    "import numpy as np\n",
    "n = 200\n",
    "X, y = np.arange(n).reshape((int(n/2), 2)), range(int(n/2)) # generate toy data set X with labels Y\n",
    "X_train, X_test, y_train, y_test = train_test_split(X, y, test_size=0.2, random_state=42) # create a training and testing split"
   ]
  },
  {
   "cell_type": "code",
   "execution_count": 2,
   "metadata": {},
   "outputs": [],
   "source": [
    "X_train, X_val, y_train, y_val = train_test_split(X_train, y_train, test_size=0.25, random_state=42)"
   ]
  },
  {
   "cell_type": "code",
   "execution_count": 3,
   "metadata": {},
   "outputs": [
    {
     "data": {
      "text/plain": [
       "60"
      ]
     },
     "execution_count": 3,
     "metadata": {},
     "output_type": "execute_result"
    }
   ],
   "source": [
    "len(X_train)"
   ]
  },
  {
   "cell_type": "code",
   "execution_count": 4,
   "metadata": {},
   "outputs": [
    {
     "data": {
      "text/plain": [
       "20"
      ]
     },
     "execution_count": 4,
     "metadata": {},
     "output_type": "execute_result"
    }
   ],
   "source": [
    "len(X_val)"
   ]
  },
  {
   "cell_type": "code",
   "execution_count": 5,
   "metadata": {},
   "outputs": [
    {
     "data": {
      "text/plain": [
       "20"
      ]
     },
     "execution_count": 5,
     "metadata": {},
     "output_type": "execute_result"
    }
   ],
   "source": [
    "len(X_test)"
   ]
  },
  {
   "cell_type": "code",
   "execution_count": 6,
   "metadata": {},
   "outputs": [
    {
     "data": {
      "text/plain": [
       "array([[144, 145],\n",
       "       [  2,   3],\n",
       "       [ 30,  31],\n",
       "       [136, 137],\n",
       "       [ 16,  17],\n",
       "       [ 74,  75],\n",
       "       [108, 109],\n",
       "       [196, 197],\n",
       "       [132, 133],\n",
       "       [178, 179],\n",
       "       [150, 151],\n",
       "       [102, 103],\n",
       "       [192, 193],\n",
       "       [158, 159],\n",
       "       [ 96,  97],\n",
       "       [ 32,  33],\n",
       "       [ 42,  43],\n",
       "       [ 38,  39],\n",
       "       [100, 101],\n",
       "       [ 56,  57],\n",
       "       [142, 143],\n",
       "       [ 84,  85],\n",
       "       [130, 131],\n",
       "       [ 72,  73],\n",
       "       [ 18,  19],\n",
       "       [104, 105],\n",
       "       [ 80,  81],\n",
       "       [ 12,  13],\n",
       "       [172, 173],\n",
       "       [188, 189],\n",
       "       [ 92,  93],\n",
       "       [184, 185],\n",
       "       [ 10,  11],\n",
       "       [ 50,  51],\n",
       "       [198, 199],\n",
       "       [162, 163],\n",
       "       [122, 123],\n",
       "       [ 54,  55],\n",
       "       [ 86,  87],\n",
       "       [ 28,  29],\n",
       "       [ 64,  65],\n",
       "       [ 94,  95],\n",
       "       [ 34,  35],\n",
       "       [120, 121],\n",
       "       [118, 119],\n",
       "       [ 58,  59],\n",
       "       [174, 175],\n",
       "       [128, 129],\n",
       "       [ 26,  27],\n",
       "       [176, 177],\n",
       "       [116, 117],\n",
       "       [ 68,  69],\n",
       "       [ 52,  53],\n",
       "       [190, 191],\n",
       "       [ 40,  41],\n",
       "       [ 98,  99],\n",
       "       [126, 127],\n",
       "       [148, 149],\n",
       "       [186, 187],\n",
       "       [ 82,  83]])"
      ]
     },
     "execution_count": 6,
     "metadata": {},
     "output_type": "execute_result"
    }
   ],
   "source": [
    "X_train"
   ]
  },
  {
   "cell_type": "code",
   "execution_count": 7,
   "metadata": {},
   "outputs": [
    {
     "data": {
      "text/plain": [
       "array([[ 48,  49],\n",
       "       [110, 111],\n",
       "       [ 14,  15],\n",
       "       [  6,   7],\n",
       "       [ 70,  71],\n",
       "       [124, 125],\n",
       "       [ 22,  23],\n",
       "       [182, 183],\n",
       "       [138, 139],\n",
       "       [170, 171],\n",
       "       [194, 195],\n",
       "       [ 76,  77],\n",
       "       [  4,   5],\n",
       "       [156, 157],\n",
       "       [ 46,  47],\n",
       "       [134, 135],\n",
       "       [164, 165],\n",
       "       [168, 169],\n",
       "       [114, 115],\n",
       "       [112, 113]])"
      ]
     },
     "execution_count": 7,
     "metadata": {},
     "output_type": "execute_result"
    }
   ],
   "source": [
    "X_val"
   ]
  },
  {
   "cell_type": "code",
   "execution_count": 8,
   "metadata": {},
   "outputs": [
    {
     "data": {
      "text/plain": [
       "array([[166, 167],\n",
       "       [106, 107],\n",
       "       [140, 141],\n",
       "       [ 90,  91],\n",
       "       [ 88,  89],\n",
       "       [ 78,  79],\n",
       "       [ 44,  45],\n",
       "       [160, 161],\n",
       "       [ 20,  21],\n",
       "       [  0,   1],\n",
       "       [ 36,  37],\n",
       "       [ 60,  61],\n",
       "       [146, 147],\n",
       "       [ 66,  67],\n",
       "       [180, 181],\n",
       "       [  8,   9],\n",
       "       [152, 153],\n",
       "       [154, 155],\n",
       "       [ 24,  25],\n",
       "       [ 62,  63]])"
      ]
     },
     "execution_count": 8,
     "metadata": {},
     "output_type": "execute_result"
    }
   ],
   "source": [
    "X_test"
   ]
  },
  {
   "cell_type": "code",
   "execution_count": null,
   "metadata": {},
   "outputs": [],
   "source": []
  }
 ],
 "metadata": {
  "kernelspec": {
   "display_name": "Python 3",
   "language": "python",
   "name": "python3"
  },
  "language_info": {
   "codemirror_mode": {
    "name": "ipython",
    "version": 3
   },
   "file_extension": ".py",
   "mimetype": "text/x-python",
   "name": "python",
   "nbconvert_exporter": "python",
   "pygments_lexer": "ipython3",
   "version": "3.6.7"
  }
 },
 "nbformat": 4,
 "nbformat_minor": 2
}
