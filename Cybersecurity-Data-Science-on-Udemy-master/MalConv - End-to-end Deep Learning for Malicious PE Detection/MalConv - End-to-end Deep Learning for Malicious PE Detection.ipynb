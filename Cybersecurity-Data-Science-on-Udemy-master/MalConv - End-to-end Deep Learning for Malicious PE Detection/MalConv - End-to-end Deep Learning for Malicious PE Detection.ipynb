{
 "cells": [
  {
   "cell_type": "code",
   "execution_count": 38,
   "metadata": {},
   "outputs": [],
   "source": [
    "import numpy as np\n",
    "from tqdm import tqdm"
   ]
  },
  {
   "cell_type": "code",
   "execution_count": 30,
   "metadata": {},
   "outputs": [],
   "source": [
    "def embedBytes(byte):\n",
    "    binaryString = \"{0:08b}\".format(byte)\n",
    "    vec = np.zeros(8)\n",
    "    for i in range(8):\n",
    "        if (binaryString[i]==\"1\"):\n",
    "            vec[i]=float(1)/16\n",
    "        else:\n",
    "            vec[i]=-float(1)/16\n",
    "    return vec"
   ]
  },
  {
   "cell_type": "code",
   "execution_count": 34,
   "metadata": {},
   "outputs": [
    {
     "name": "stdout",
     "output_type": "stream",
     "text": [
      "[0.0625 0.0625 0.0625 0.0625 0.0625 0.0625 0.0625 0.0625]\n",
      "[-0.0625 -0.0625 -0.0625 -0.0625 -0.0625 -0.0625 -0.0625  0.0625]\n"
     ]
    }
   ],
   "source": [
    "byte1 = 255\n",
    "byte2 = 1\n",
    "print(embedBytes(byte1))\n",
    "print(embedBytes(byte2))"
   ]
  },
  {
   "cell_type": "code",
   "execution_count": 35,
   "metadata": {},
   "outputs": [],
   "source": [
    "import os\n",
    "directoriesWithLabels = [(\"Benign PE Samples\",0), (\"Malicious PE Samples\",1)]\n",
    "listOfSamples = []\n",
    "labels = []\n",
    "for datasetPath, label in directoriesWithLabels:\n",
    "    samples = [f for f in listdir(datasetPath)]\n",
    "    for file in samples:\n",
    "        filePath = os.path.join(datasetPath, file)\n",
    "        listOfSamples.append(filePath)\n",
    "        labels.append(label)"
   ]
  },
  {
   "cell_type": "code",
   "execution_count": 36,
   "metadata": {},
   "outputs": [],
   "source": [
    "def readFile(filePath):\n",
    "    with open(filePath, \"rb\") as binaryFile:\n",
    "        return binaryFile.read()"
   ]
  },
  {
   "cell_type": "code",
   "execution_count": 41,
   "metadata": {},
   "outputs": [
    {
     "name": "stderr",
     "output_type": "stream",
     "text": [
      "100%|████████████████████████████████████████████████████████████████████████████████| 424/424 [00:31<00:00, 13.52it/s]\n"
     ]
    }
   ],
   "source": [
    "maxSize = 15000\n",
    "numSamples = len(listOfSamples)\n",
    "X = np.zeros((numSamples, 8, maxSize))\n",
    "Y = np.asarray(labels)\n",
    "fileNum = 0\n",
    "for file in tqdm(listOfSamples):\n",
    "    sampleByteSequence = readFile(file)\n",
    "    for i in range(min(maxSize,len(sampleByteSequence))):\n",
    "        X[fileNum,:,i]=embedBytes(sampleByteSequence[i])\n",
    "    fileNum+=1"
   ]
  },
  {
   "cell_type": "code",
   "execution_count": null,
   "metadata": {},
   "outputs": [],
   "source": [
    "print(X.shape)"
   ]
  },
  {
   "cell_type": "code",
   "execution_count": 51,
   "metadata": {},
   "outputs": [],
   "source": [
    "from keras import optimizers\n",
    "opt = optimizers.SGD(lr=0.01, decay=1e-6, nesterov=True)"
   ]
  },
  {
   "cell_type": "code",
   "execution_count": 52,
   "metadata": {},
   "outputs": [],
   "source": [
    "from keras import Input\n",
    "inputs = Input(shape=(8, maxSize))"
   ]
  },
  {
   "cell_type": "code",
   "execution_count": 53,
   "metadata": {},
   "outputs": [],
   "source": [
    "from keras.layers import Conv1D\n",
    "conv1 = Conv1D(kernel_size=(128), filters=32, strides=(128), padding='same')(inputs)\n",
    "conv2 = Conv1D(kernel_size=(128), filters=32, strides=(128), padding='same')(inputs)"
   ]
  },
  {
   "cell_type": "code",
   "execution_count": 54,
   "metadata": {},
   "outputs": [],
   "source": [
    "from keras.layers import Activation\n",
    "a = Activation('sigmoid', name='sigmoid')(conv2)"
   ]
  },
  {
   "cell_type": "code",
   "execution_count": 60,
   "metadata": {},
   "outputs": [],
   "source": [
    "from keras.layers import multiply\n",
    "mul = multiply([conv1, a])"
   ]
  },
  {
   "cell_type": "code",
   "execution_count": 61,
   "metadata": {},
   "outputs": [],
   "source": [
    "b = Activation('relu', name='relu')(mul)"
   ]
  },
  {
   "cell_type": "code",
   "execution_count": 66,
   "metadata": {},
   "outputs": [],
   "source": [
    "from keras.layers import GlobalMaxPool1D\n",
    "p = GlobalMaxPool1D()(b)"
   ]
  },
  {
   "cell_type": "code",
   "execution_count": 67,
   "metadata": {},
   "outputs": [],
   "source": [
    "from keras.layers import Dense\n",
    "d = Dense(16)(p)\n",
    "predictions = Dense(1, activation='sigmoid')(d)"
   ]
  },
  {
   "cell_type": "code",
   "execution_count": 68,
   "metadata": {},
   "outputs": [],
   "source": [
    "from keras import Model\n",
    "model = Model(inputs=inputs, outputs=predictions)"
   ]
  },
  {
   "cell_type": "code",
   "execution_count": 70,
   "metadata": {},
   "outputs": [],
   "source": [
    "model.compile(optimizer=opt, loss='binary_crossentropy', metrics=['acc'])"
   ]
  },
  {
   "cell_type": "code",
   "execution_count": 71,
   "metadata": {},
   "outputs": [
    {
     "name": "stdout",
     "output_type": "stream",
     "text": [
      "__________________________________________________________________________________________________\n",
      "Layer (type)                    Output Shape         Param #     Connected to                     \n",
      "==================================================================================================\n",
      "input_2 (InputLayer)            (None, 8, 15000)     0                                            \n",
      "__________________________________________________________________________________________________\n",
      "conv1d_4 (Conv1D)               (None, 1, 32)        61440032    input_2[0][0]                    \n",
      "__________________________________________________________________________________________________\n",
      "conv1d_3 (Conv1D)               (None, 1, 32)        61440032    input_2[0][0]                    \n",
      "__________________________________________________________________________________________________\n",
      "sigmoid (Activation)            (None, 1, 32)        0           conv1d_4[0][0]                   \n",
      "__________________________________________________________________________________________________\n",
      "multiply_1 (Multiply)           (None, 1, 32)        0           conv1d_3[0][0]                   \n",
      "                                                                 sigmoid[0][0]                    \n",
      "__________________________________________________________________________________________________\n",
      "relu (Activation)               (None, 1, 32)        0           multiply_1[0][0]                 \n",
      "__________________________________________________________________________________________________\n",
      "global_max_pooling1d_4 (GlobalM (None, 32)           0           relu[0][0]                       \n",
      "__________________________________________________________________________________________________\n",
      "dense_4 (Dense)                 (None, 16)           528         global_max_pooling1d_4[0][0]     \n",
      "__________________________________________________________________________________________________\n",
      "dense_5 (Dense)                 (None, 1)            17          dense_4[0][0]                    \n",
      "==================================================================================================\n",
      "Total params: 122,880,609\n",
      "Trainable params: 122,880,609\n",
      "Non-trainable params: 0\n",
      "__________________________________________________________________________________________________\n"
     ]
    }
   ],
   "source": [
    "model.summary()"
   ]
  },
  {
   "cell_type": "code",
   "execution_count": 72,
   "metadata": {},
   "outputs": [],
   "source": [
    "batchSize = 16\n",
    "numBatches = int(numSamples/batchSize)"
   ]
  },
  {
   "cell_type": "code",
   "execution_count": 74,
   "metadata": {},
   "outputs": [
    {
     "name": "stderr",
     "output_type": "stream",
     "text": [
      "100%|██████████████████████████████████████████████████████████████████████████████████| 26/26 [01:24<00:00,  3.31s/it]\n"
     ]
    }
   ],
   "source": [
    "for batchNum in tqdm(range(numBatches)):\n",
    "    batch = X[batchNum*batchSize:(batchNum+1)*batchSize]\n",
    "    model.train_on_batch(batch, Y[batchNum*batchSize:(batchNum+1)*batchSize])"
   ]
  },
  {
   "cell_type": "code",
   "execution_count": null,
   "metadata": {},
   "outputs": [],
   "source": [
    "Y_pred = model.predict(X)\n",
    "print(Y_pred)"
   ]
  },
  {
   "cell_type": "code",
   "execution_count": null,
   "metadata": {},
   "outputs": [],
   "source": []
  }
 ],
 "metadata": {
  "kernelspec": {
   "display_name": "Python 3",
   "language": "python",
   "name": "python3"
  },
  "language_info": {
   "codemirror_mode": {
    "name": "ipython",
    "version": 3
   },
   "file_extension": ".py",
   "mimetype": "text/x-python",
   "name": "python",
   "nbconvert_exporter": "python",
   "pygments_lexer": "ipython3",
   "version": "3.7.3"
  }
 },
 "nbformat": 4,
 "nbformat_minor": 2
}
