{
 "cells": [
  {
   "cell_type": "code",
   "execution_count": 159,
   "metadata": {},
   "outputs": [],
   "source": [
    "from sklearn.ensemble import RandomForestClassifier\n",
    "from sklearn.metrics import balanced_accuracy_score\n",
    "import numpy as np\n",
    "import scipy.sparse\n",
    "import collections\n",
    "X_train = scipy.sparse.load_npz(\"X_train.npz\")\n",
    "y_train = np.load(\"y_train.npy\")\n",
    "X_test = scipy.sparse.load_npz(\"X_test.npz\")\n",
    "y_test = np.load(\"y_test.npy\")"
   ]
  },
  {
   "cell_type": "code",
   "execution_count": 160,
   "metadata": {},
   "outputs": [
    {
     "name": "stdout",
     "output_type": "stream",
     "text": [
      "Counter({0: 120, 1: 11})\n",
      "0.8666666666666667\n"
     ]
    }
   ],
   "source": [
    "rf=RandomForestClassifier(n_estimators=100)\n",
    "rf.fit(X_train,y_train)\n",
    "rfPred = rf.predict(X_test)\n",
    "print(collections.Counter(rfPred))\n",
    "print(balanced_accuracy_score(y_test, rfPred)) "
   ]
  },
  {
   "cell_type": "code",
   "execution_count": 161,
   "metadata": {},
   "outputs": [
    {
     "name": "stdout",
     "output_type": "stream",
     "text": [
      "Counter({0: 115, 1: 16})\n",
      "0.9580459770114942\n"
     ]
    }
   ],
   "source": [
    "rfWeighted=RandomForestClassifier(n_estimators=100, class_weight=\"balanced\")\n",
    "rfWeighted.fit(X_train,y_train)\n",
    "rfWeightedPred = rfWeighted.predict(X_test)\n",
    "print(collections.Counter(rfWeightedPred))\n",
    "print(balanced_accuracy_score(y_test, rfWeightedPred))"
   ]
  },
  {
   "cell_type": "code",
   "execution_count": 162,
   "metadata": {},
   "outputs": [],
   "source": [
    "from sklearn.utils import resample\n",
    "X_train_np = X_train.toarray()\n",
    "class_0_indices = [i for i, x in enumerate(y_train==0) if x]\n",
    "class_1_indices = [i for i, x in enumerate(y_train==1) if x]\n",
    "size_class_0 = sum(y_train==0)\n",
    "X_train_class_0 = X_train_np[class_0_indices,:]\n",
    "y_train_class_0 = [0]*size_class_0\n",
    "X_train_class_1 = X_train_np[class_1_indices,:]"
   ]
  },
  {
   "cell_type": "code",
   "execution_count": 163,
   "metadata": {},
   "outputs": [],
   "source": [
    "X_train_class_1_resampled = resample(X_train_class_1, replace=True, n_samples=size_class_0)\n",
    "y_train_class_1_resampled = [1]*size_class_0"
   ]
  },
  {
   "cell_type": "code",
   "execution_count": 164,
   "metadata": {},
   "outputs": [],
   "source": [
    "X_train_resampled = np.concatenate([X_train_class_0,X_train_class_1_resampled])\n",
    "y_train_resampled = y_train_class_0+y_train_class_1_resampled"
   ]
  },
  {
   "cell_type": "code",
   "execution_count": 165,
   "metadata": {},
   "outputs": [],
   "source": [
    "from scipy import sparse\n",
    "X_train_resampled = sparse.csr_matrix(X_train_resampled)"
   ]
  },
  {
   "cell_type": "code",
   "execution_count": 166,
   "metadata": {},
   "outputs": [
    {
     "name": "stdout",
     "output_type": "stream",
     "text": [
      "Counter({0: 114, 1: 17})\n",
      "0.9913793103448276\n"
     ]
    }
   ],
   "source": [
    "rfResampled=RandomForestClassifier(n_estimators=100)\n",
    "rfResampled.fit(X_train_resampled,y_train_resampled)\n",
    "rfResampledPred = rfResampled.predict(X_test)\n",
    "print(collections.Counter(rfResampledPred))\n",
    "print(balanced_accuracy_score(y_test, rfResampledPred))"
   ]
  },
  {
   "cell_type": "code",
   "execution_count": 167,
   "metadata": {},
   "outputs": [],
   "source": [
    "X_train_np = X_train.toarray()\n",
    "class_0_indices = [i for i, x in enumerate(y_train==0) if x]\n",
    "class_1_indices = [i for i, x in enumerate(y_train==1) if x]\n",
    "size_class_1 = sum(y_train==1)\n",
    "X_train_class_1 = X_train_np[class_1_indices,:]\n",
    "y_train_class_1 = [1]*size_class_1\n",
    "X_train_class_0 = X_train_np[class_0_indices,:]\n",
    "X_train_class_0_downsampled = resample(X_train_class_0, replace=False, n_samples=size_class_1)\n",
    "y_train_class_0_downsampled = [0]*size_class_1"
   ]
  },
  {
   "cell_type": "code",
   "execution_count": 168,
   "metadata": {},
   "outputs": [],
   "source": [
    "X_train_downsampled = np.concatenate([X_train_class_1,X_train_class_0_downsampled])\n",
    "y_train_downsampled = y_train_class_1+y_train_class_0_downsampled"
   ]
  },
  {
   "cell_type": "code",
   "execution_count": 169,
   "metadata": {},
   "outputs": [],
   "source": [
    "X_train_downsampled = sparse.csr_matrix(X_train_downsampled)"
   ]
  },
  {
   "cell_type": "code",
   "execution_count": 170,
   "metadata": {},
   "outputs": [
    {
     "name": "stdout",
     "output_type": "stream",
     "text": [
      "Counter({0: 112, 1: 19})\n",
      "0.9827586206896552\n"
     ]
    }
   ],
   "source": [
    "rfDownsampled=RandomForestClassifier(n_estimators=100)\n",
    "rfDownsampled.fit(X_train_downsampled,y_train_downsampled)\n",
    "rfDownsampledPred = rfDownsampled.predict(X_test)\n",
    "print(collections.Counter(rfDownsampledPred))\n",
    "print(balanced_accuracy_score(y_test, rfDownsampledPred))"
   ]
  },
  {
   "cell_type": "code",
   "execution_count": 173,
   "metadata": {},
   "outputs": [
    {
     "name": "stdout",
     "output_type": "stream",
     "text": [
      "Counter({0: 111, 1: 20})\n",
      "0.978448275862069\n"
     ]
    }
   ],
   "source": [
    "from imblearn.ensemble import BalancedBaggingClassifier\n",
    "from sklearn.tree import DecisionTreeClassifier\n",
    "BBC = BalancedBaggingClassifier(base_estimator=DecisionTreeClassifier(),sampling_strategy='auto',replacement=False)\n",
    "BBC.fit(X_train, y_train) \n",
    "BBCPred = BBC.predict(X_test)\n",
    "print(collections.Counter(BBCPred))\n",
    "print(balanced_accuracy_score(y_test, BBCPred))  "
   ]
  },
  {
   "cell_type": "code",
   "execution_count": null,
   "metadata": {},
   "outputs": [],
   "source": []
  }
 ],
 "metadata": {
  "kernelspec": {
   "display_name": "Python 3",
   "language": "python",
   "name": "python3"
  },
  "language_info": {
   "codemirror_mode": {
    "name": "ipython",
    "version": 3
   },
   "file_extension": ".py",
   "mimetype": "text/x-python",
   "name": "python",
   "nbconvert_exporter": "python",
   "pygments_lexer": "ipython3",
   "version": "3.6.7"
  }
 },
 "nbformat": 4,
 "nbformat_minor": 2
}
