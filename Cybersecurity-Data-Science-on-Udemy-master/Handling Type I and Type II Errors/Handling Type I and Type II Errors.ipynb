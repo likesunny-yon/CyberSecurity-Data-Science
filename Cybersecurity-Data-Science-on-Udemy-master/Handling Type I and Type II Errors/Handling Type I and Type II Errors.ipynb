{
 "cells": [
  {
   "cell_type": "code",
   "execution_count": 49,
   "metadata": {},
   "outputs": [],
   "source": [
    "from sklearn.metrics import confusion_matrix\n",
    "import numpy as np\n",
    "import scipy\n",
    "X_train = scipy.sparse.load_npz(\"X_train.npz\")\n",
    "y_train = np.load(\"y_train.npy\")\n",
    "X_test = scipy.sparse.load_npz(\"X_test.npz\")\n",
    "y_test = np.load(\"y_test.npy\")\n",
    "desiredFPR = 0.05"
   ]
  },
  {
   "cell_type": "code",
   "execution_count": 12,
   "metadata": {},
   "outputs": [],
   "source": [
    "def FPR(y_true, y_pred):\n",
    "    CM = confusion_matrix(y_true, y_pred)\n",
    "    TN = CM[0][0]\n",
    "    FP = CM[0][1]\n",
    "    FPR = FP/(FP+TN)\n",
    "    return FPR\n",
    "\n",
    "def TPR(y_true, y_pred):\n",
    "    CM = confusion_matrix(y_true, y_pred)\n",
    "    TP = CM[1][1]\n",
    "    FN = CM[1][0]\n",
    "    TPR = TP/(TP+FN)\n",
    "    return TPR"
   ]
  },
  {
   "cell_type": "code",
   "execution_count": 42,
   "metadata": {},
   "outputs": [],
   "source": [
    "def thresholdVector(vector, threshold):\n",
    "    return [0 if x>=threshold else 1 for x in vector]"
   ]
  },
  {
   "cell_type": "code",
   "execution_count": 53,
   "metadata": {},
   "outputs": [
    {
     "name": "stdout",
     "output_type": "stream",
     "text": [
      "Probabilities look like so:\n",
      "[[0.95251546 0.04748454]\n",
      " [0.98944238 0.01055762]\n",
      " [0.98989589 0.01010411]\n",
      " [0.7679705  0.2320295 ]\n",
      " [0.88519213 0.11480787]]\n",
      "\n",
      "Testing thresholds:\n",
      "99 0.9681818181818181 1.0\n",
      "98 0.4636363636363636 1.0\n",
      "97 0.41818181818181815 1.0\n",
      "96 0.37272727272727274 1.0\n",
      "95 0.2863636363636364 1.0\n",
      "94 0.18636363636363637 1.0\n",
      "93 0.12727272727272726 1.0\n",
      "92 0.09545454545454546 1.0\n",
      "91 0.07727272727272727 1.0\n",
      "90 0.07272727272727272 1.0\n",
      "89 0.07272727272727272 1.0\n",
      "88 0.06818181818181818 1.0\n",
      "87 0.06818181818181818 1.0\n",
      "86 0.06818181818181818 1.0\n",
      "85 0.06818181818181818 1.0\n",
      "84 0.06818181818181818 1.0\n",
      "83 0.06818181818181818 1.0\n",
      "82 0.06818181818181818 1.0\n",
      "81 0.06818181818181818 1.0\n",
      "80 0.06818181818181818 1.0\n",
      "79 0.06818181818181818 1.0\n",
      "78 0.06363636363636363 1.0\n",
      "77 0.06363636363636363 1.0\n",
      "76 0.05909090909090909 1.0\n",
      "75 0.05909090909090909 1.0\n",
      "74 0.05909090909090909 1.0\n",
      "73 0.05909090909090909 1.0\n",
      "72 0.05909090909090909 1.0\n",
      "71 0.05909090909090909 1.0\n",
      "70 0.05909090909090909 1.0\n",
      "69 0.05909090909090909 1.0\n",
      "68 0.05909090909090909 1.0\n",
      "67 0.05909090909090909 1.0\n",
      "66 0.05909090909090909 1.0\n",
      "65 0.05909090909090909 1.0\n",
      "64 0.05909090909090909 1.0\n",
      "63 0.05909090909090909 1.0\n",
      "62 0.004545454545454545 0.7857142857142857\n",
      "Selected threshold: \n",
      "0.62\n"
     ]
    }
   ],
   "source": [
    "from sklearn.linear_model import LogisticRegression\n",
    "LR=LogisticRegression()\n",
    "LR.fit(X_train,y_train)\n",
    "LRPredProb = LR.predict_proba(X_train)\n",
    "print(\"Probabilities look like so:\")\n",
    "print(LRPredProb[0:5])\n",
    "print()\n",
    "M = 100\n",
    "print(\"Testing thresholds:\")\n",
    "for threshold in reversed(range(M)):\n",
    "    thresholdScaled = float(threshold)/M\n",
    "    thresholdedPrediction = thresholdVector(LRPredProb[:,0], thresholdScaled)    \n",
    "    print(threshold, FPR(y_train, thresholdedPrediction), TPR(y_train, thresholdedPrediction))\n",
    "    if FPR(y_train,thresholdedPrediction)<desiredFPR:\n",
    "        print(\"Selected threshold: \")\n",
    "        print(thresholdScaled)\n",
    "        break"
   ]
  },
  {
   "cell_type": "code",
   "execution_count": null,
   "metadata": {},
   "outputs": [],
   "source": []
  }
 ],
 "metadata": {
  "kernelspec": {
   "display_name": "Python 3",
   "language": "python",
   "name": "python3"
  },
  "language_info": {
   "codemirror_mode": {
    "name": "ipython",
    "version": 3
   },
   "file_extension": ".py",
   "mimetype": "text/x-python",
   "name": "python",
   "nbconvert_exporter": "python",
   "pygments_lexer": "ipython3",
   "version": "3.7.3"
  }
 },
 "nbformat": 4,
 "nbformat_minor": 2
}
