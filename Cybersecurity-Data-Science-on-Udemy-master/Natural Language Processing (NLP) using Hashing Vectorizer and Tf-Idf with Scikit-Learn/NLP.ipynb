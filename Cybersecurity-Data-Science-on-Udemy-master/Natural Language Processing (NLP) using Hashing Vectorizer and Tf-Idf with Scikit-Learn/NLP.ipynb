{
 "cells": [
  {
   "cell_type": "code",
   "execution_count": 1,
   "metadata": {},
   "outputs": [],
   "source": [
    "from sklearn.datasets import fetch_20newsgroups"
   ]
  },
  {
   "cell_type": "code",
   "execution_count": 2,
   "metadata": {},
   "outputs": [
    {
     "name": "stderr",
     "output_type": "stream",
     "text": [
      "Downloading 20news dataset. This may take a few minutes.\n",
      "Downloading dataset from https://ndownloader.figshare.com/files/5975967 (14 MB)\n"
     ]
    }
   ],
   "source": [
    "newsgroups_train = fetch_20newsgroups(subset='train')"
   ]
  },
  {
   "cell_type": "code",
   "execution_count": 12,
   "metadata": {},
   "outputs": [],
   "source": [
    "from sklearn.feature_extraction.text import HashingVectorizer\n",
    "from sklearn.feature_extraction.text import TfidfTransformer\n",
    "my_vector = HashingVectorizer(input='content', ngram_range=(1, 2))\n",
    "X_train_counts = my_vector.fit_transform(newsgroups_train.data, )\n",
    "tf_transformer = TfidfTransformer(use_idf=True, ).fit(X_train_counts)\n",
    "X_train_tf = tf_transformer.transform(X_train_counts)"
   ]
  },
  {
   "cell_type": "code",
   "execution_count": 13,
   "metadata": {},
   "outputs": [
    {
     "data": {
      "text/plain": [
       "<11314x1048576 sparse matrix of type '<class 'numpy.float64'>'\n",
       "\twith 4692106 stored elements in Compressed Sparse Row format>"
      ]
     },
     "execution_count": 13,
     "metadata": {},
     "output_type": "execute_result"
    }
   ],
   "source": [
    "X_train_tf"
   ]
  },
  {
   "cell_type": "code",
   "execution_count": 26,
   "metadata": {},
   "outputs": [
    {
     "name": "stdout",
     "output_type": "stream",
     "text": [
      "  (0, 772)\t-0.03499521127162594\n",
      "  (0, 11631)\t-0.03500460052106256\n",
      "  (0, 27191)\t0.019719620139643457\n",
      "  (0, 38050)\t0.15335092929327068\n",
      "  (0, 40893)\t0.06819812765137043\n",
      "  (0, 43150)\t-0.030652868514715367\n",
      "  (0, 45206)\t-0.07176014995016518\n",
      "  (0, 46512)\t0.09043016550513941\n",
      "  (0, 46826)\t-0.06397798297931095\n",
      "  (0, 47514)\t-0.077684454241659\n",
      "  (0, 48144)\t-0.03868564643766536\n",
      "  (0, 51175)\t0.09236029043126265\n",
      "  (0, 55881)\t-0.077684454241659\n",
      "  (0, 59729)\t-0.023653464977688998\n",
      "  (0, 64534)\t0.05954154148426631\n",
      "  (0, 67784)\t-0.08401338274143716\n",
      "  (0, 71498)\t0.08613775858631713\n",
      "  (0, 75648)\t0.048875792068053855\n",
      "  (0, 89279)\t-0.09776808359994123\n",
      "  (0, 97216)\t0.07667546464663534\n",
      "  (0, 97424)\t0.030449337354616923\n",
      "  (0, 101490)\t0.13473479492888113\n",
      "  (0, 106541)\t0.08738465432915987\n",
      "  (0, 111842)\t0.049086823203040524\n",
      "  (0, 112243)\t-0.03659275246766097\n",
      "  :\t:\n",
      "  (11313, 750493)\t-0.1160078779736303\n",
      "  (11313, 771693)\t0.09086384516141675\n",
      "  (11313, 784574)\t-0.05818237780963616\n",
      "  (11313, 790269)\t-0.0551002906854262\n",
      "  (11313, 811745)\t0.02060061619447049\n",
      "  (11313, 822308)\t-0.0213155777629503\n",
      "  (11313, 856299)\t-0.04013279738946367\n",
      "  (11313, 856372)\t-0.09989136081614433\n",
      "  (11313, 868771)\t-0.10574010616015751\n",
      "  (11313, 884288)\t-0.0931614428956718\n",
      "  (11313, 886526)\t0.1103825165109229\n",
      "  (11313, 898773)\t-0.08058277963118607\n",
      "  (11313, 905444)\t0.1103825165109229\n",
      "  (11313, 920844)\t0.07330096727656096\n",
      "  (11313, 922741)\t-0.02813881305030049\n",
      "  (11313, 933061)\t-0.09451001068348226\n",
      "  (11313, 936788)\t-0.19978272163228866\n",
      "  (11313, 958756)\t-0.03581718135240147\n",
      "  (11313, 959146)\t0.022096111751659896\n",
      "  (11313, 959571)\t0.1103825165109229\n",
      "  (11313, 966864)\t-0.07579988171758481\n",
      "  (11313, 992878)\t0.023775066719160458\n",
      "  (11313, 1005413)\t-0.09989136081614433\n",
      "  (11313, 1021257)\t-0.032641882467555394\n",
      "  (11313, 1032344)\t-0.031622585584606254\n"
     ]
    }
   ],
   "source": [
    "print(X_train_tf)"
   ]
  },
  {
   "cell_type": "code",
   "execution_count": null,
   "metadata": {},
   "outputs": [],
   "source": []
  }
 ],
 "metadata": {
  "kernelspec": {
   "display_name": "Python 3",
   "language": "python",
   "name": "python3"
  },
  "language_info": {
   "codemirror_mode": {
    "name": "ipython",
    "version": 3
   },
   "file_extension": ".py",
   "mimetype": "text/x-python",
   "name": "python",
   "nbconvert_exporter": "python",
   "pygments_lexer": "ipython3",
   "version": "3.6.7"
  }
 },
 "nbformat": 4,
 "nbformat_minor": 2
}
